{
 "cells": [
  {
   "cell_type": "code",
   "execution_count": 1,
   "id": "eedcaf08-ec45-40d7-b019-2d3562cbec41",
   "metadata": {},
   "outputs": [],
   "source": [
    "from os.path import join\n",
    "import bnr.azrael as azrael\n",
    "\n",
    "import pandas as pd\n",
    "import numpy as np\n",
    "\n",
    "root_path = \"data\""
   ]
  },
  {
   "cell_type": "markdown",
   "id": "93735473-1469-4e04-9a25-6333923ac40c",
   "metadata": {},
   "source": [
    "On part de deux fichiers sources :\n",
    "- bnr_dxxx... : comprend l'ensemble des fichiers présents sur les dde (azrael est donc exclu)\n",
    "- dde_notinazrael : comprend l'ensemble des fichiers présents sur les dde, mais pas dans azrael"
   ]
  },
  {
   "cell_type": "markdown",
   "id": "2e9c1ebf-11ec-4b2f-8ec3-e5d882aa9802",
   "metadata": {},
   "source": [
    "# Ensemble des fichiers"
   ]
  },
  {
   "cell_type": "code",
   "execution_count": 6,
   "id": "1d2154fb-e1b8-4239-9d5f-f521b2d9501f",
   "metadata": {},
   "outputs": [
    {
     "name": "stderr",
     "output_type": "stream",
     "text": [
      "/home/fpichenot/dev/data-bnr/bnr/azrael.py:171: DtypeWarning: Columns (2) have mixed types. Specify dtype option on import or set low_memory=False.\n",
      "  self.az = pd.read_csv(path_az)\n"
     ]
    }
   ],
   "source": [
    "file_name = join(root_path, \"bnr_dXXX_20231230.csv.gz\")\n",
    "az2a = azrael.Azrael2analysis()\n",
    "az2a.create_az(path_az=file_name)\n",
    "\n",
    "az2a.az['path'] = az2a.az['path'].str.replace(\"\\\\\", \"/\")\n",
    "az2a.split_path()\n",
    "az2a.get_extension_mimetype()\n",
    "ensemble = az2a.az\n",
    "ensemble['nb'] = 1"
   ]
  },
  {
   "cell_type": "code",
   "execution_count": 29,
   "id": "fc79a35c-8785-44d0-a94f-8e85a401276d",
   "metadata": {},
   "outputs": [],
   "source": [
    "ensemble_pivot = pd.pivot_table(ensemble, values=['nb', 'size'], index=['prefix'],\n",
    "                       columns=['file_type'], aggfunc='sum', fill_value=0, margins=True, margins_name='Total')"
   ]
  },
  {
   "cell_type": "code",
   "execution_count": 28,
   "id": "d962a227-eacc-44c6-80c3-26565add1ef1",
   "metadata": {},
   "outputs": [
    {
     "name": "stderr",
     "output_type": "stream",
     "text": [
      "/tmp/ipykernel_9899/1381315133.py:3: SettingWithCopyWarning: \n",
      "A value is trying to be set on a copy of a slice from a DataFrame.\n",
      "Try using .loc[row_indexer,col_indexer] = value instead\n",
      "\n",
      "See the caveats in the documentation: https://pandas.pydata.org/pandas-docs/stable/user_guide/indexing.html#returning-a-view-versus-a-copy\n",
      "  size_go[c] = size_go[c].apply(lambda x: azrael.convert_size(x, to_size='go'))\n"
     ]
    }
   ],
   "source": [
    "size_go = ensemble_pivot['size']\n",
    "for c in size_go.columns:\n",
    "    size_go[c] = size_go[c].apply(lambda x: azrael.convert_size(x, to_size='go'))\n",
    "size_go.to_csv(\"ensemble_size.csv\")\n",
    "\n",
    "ensemble_pivot['nb'].to_csv(\"ensemble_nb.csv\")"
   ]
  },
  {
   "cell_type": "markdown",
   "id": "c86075e3-33e4-44c1-930f-e61847d6cd4f",
   "metadata": {},
   "source": [
    "# Fichiers absents d'Azraël"
   ]
  },
  {
   "cell_type": "code",
   "execution_count": 30,
   "id": "c2708e4f-9267-4773-85c9-352569a35073",
   "metadata": {},
   "outputs": [
    {
     "name": "stderr",
     "output_type": "stream",
     "text": [
      "/home/fpichenot/dev/data-bnr/bnr/azrael.py:171: DtypeWarning: Columns (2) have mixed types. Specify dtype option on import or set low_memory=False.\n",
      "  self.az = pd.read_csv(path_az)\n"
     ]
    }
   ],
   "source": [
    "file_name = join(root_path, \"dde_notinazrael.csv.gz\")\n",
    "az2a = azrael.Azrael2analysis()\n",
    "az2a.create_az(path_az=file_name)\n",
    "\n",
    "az2a.az['path'] = az2a.az['path'].str.replace(\"\\\\\", \"/\")\n",
    "az2a.split_path()\n",
    "az2a.get_extension_mimetype()\n",
    "abs = az2a.az\n",
    "abs['nb'] = 1"
   ]
  },
  {
   "cell_type": "code",
   "execution_count": 31,
   "id": "211b47b1-eaed-47c1-b8ff-3e9a6684b79f",
   "metadata": {},
   "outputs": [],
   "source": [
    "abs_pivot = pd.pivot_table(abs, values=['nb', 'size'], index=['prefix'],\n",
    "                       columns=['file_type'], aggfunc='sum', fill_value=0, margins=True, margins_name='Total')"
   ]
  },
  {
   "cell_type": "code",
   "execution_count": 32,
   "id": "4d305e61-50a2-4be2-850c-c8ef96d92e89",
   "metadata": {},
   "outputs": [
    {
     "name": "stderr",
     "output_type": "stream",
     "text": [
      "/tmp/ipykernel_9899/2471247355.py:3: SettingWithCopyWarning: \n",
      "A value is trying to be set on a copy of a slice from a DataFrame.\n",
      "Try using .loc[row_indexer,col_indexer] = value instead\n",
      "\n",
      "See the caveats in the documentation: https://pandas.pydata.org/pandas-docs/stable/user_guide/indexing.html#returning-a-view-versus-a-copy\n",
      "  size_go[c] = size_go[c].apply(lambda x: azrael.convert_size(x, to_size='go'))\n"
     ]
    }
   ],
   "source": [
    "size_go = abs_pivot['size']\n",
    "for c in size_go.columns:\n",
    "    size_go[c] = size_go[c].apply(lambda x: azrael.convert_size(x, to_size='go'))\n",
    "size_go.to_csv(\"abs_size.csv\")\n",
    "\n",
    "abs_pivot['nb'].to_csv(\"abs_nb.csv\")"
   ]
  },
  {
   "cell_type": "code",
   "execution_count": null,
   "id": "9ae33fc3-c20b-46d8-bd14-c4279dc36794",
   "metadata": {},
   "outputs": [],
   "source": []
  }
 ],
 "metadata": {
  "kernelspec": {
   "display_name": "Python 3 (ipykernel)",
   "language": "python",
   "name": "python3"
  },
  "language_info": {
   "codemirror_mode": {
    "name": "ipython",
    "version": 3
   },
   "file_extension": ".py",
   "mimetype": "text/x-python",
   "name": "python",
   "nbconvert_exporter": "python",
   "pygments_lexer": "ipython3",
   "version": "3.11.5"
  }
 },
 "nbformat": 4,
 "nbformat_minor": 5
}
