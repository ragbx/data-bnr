{
 "cells": [
  {
   "cell_type": "code",
   "execution_count": 1,
   "id": "81cf68a7",
   "metadata": {},
   "outputs": [],
   "source": [
    "import pandas as pd\n",
    "from os.path import join"
   ]
  },
  {
   "cell_type": "code",
   "execution_count": 2,
   "id": "7204e63a",
   "metadata": {},
   "outputs": [],
   "source": [
    "data_folder = \"results\"\n",
    "ead_inv = pd.read_excel(join(data_folder, \"ead_inventaires_liste.xlsx\"))\n",
    "oai_sets = pd.read_excel(join(data_folder, \"oai_sets_bnr_description_20231209.xlsx\"))"
   ]
  },
  {
   "cell_type": "code",
   "execution_count": 7,
   "id": "4377a928",
   "metadata": {},
   "outputs": [
    {
     "data": {
      "text/html": [
       "<div>\n",
       "<style scoped>\n",
       "    .dataframe tbody tr th:only-of-type {\n",
       "        vertical-align: middle;\n",
       "    }\n",
       "\n",
       "    .dataframe tbody tr th {\n",
       "        vertical-align: top;\n",
       "    }\n",
       "\n",
       "    .dataframe thead th {\n",
       "        text-align: right;\n",
       "    }\n",
       "</style>\n",
       "<table border=\"1\" class=\"dataframe\">\n",
       "  <thead>\n",
       "    <tr style=\"text-align: right;\">\n",
       "      <th></th>\n",
       "      <th>setName</th>\n",
       "      <th>setSpec</th>\n",
       "      <th>set_description</th>\n",
       "    </tr>\n",
       "  </thead>\n",
       "  <tbody>\n",
       "    <tr>\n",
       "      <th>0</th>\n",
       "      <td>Affiches de la Médiathèque</td>\n",
       "      <td>RBX_MED_AFF</td>\n",
       "      <td>Affiches tous formats conserv&amp;eacute;es dans l...</td>\n",
       "    </tr>\n",
       "    <tr>\n",
       "      <th>1</th>\n",
       "      <td>Archives de la communauté juive de Roubaix</td>\n",
       "      <td>RBX_MED_COM</td>\n",
       "      <td>NaN</td>\n",
       "    </tr>\n",
       "    <tr>\n",
       "      <th>2</th>\n",
       "      <td>Archives du Musée La Piscine</td>\n",
       "      <td>RBX_MUS_ARC</td>\n",
       "      <td>Oeuvres iconographiques diverses (affiches, gr...</td>\n",
       "    </tr>\n",
       "    <tr>\n",
       "      <th>3</th>\n",
       "      <td>Archives Elections et personnel (1789-1985) sé...</td>\n",
       "      <td>RBX_AMR_AMK</td>\n",
       "      <td>NaN</td>\n",
       "    </tr>\n",
       "    <tr>\n",
       "      <th>4</th>\n",
       "      <td>Archives État civil (1790-1971)</td>\n",
       "      <td>RBX_AMR_AME</td>\n",
       "      <td>NaN</td>\n",
       "    </tr>\n",
       "    <tr>\n",
       "      <th>...</th>\n",
       "      <td>...</td>\n",
       "      <td>...</td>\n",
       "      <td>...</td>\n",
       "    </tr>\n",
       "    <tr>\n",
       "      <th>56</th>\n",
       "      <td>Registres de délibérations tapuscrits</td>\n",
       "      <td>RBX_AMR_DEL</td>\n",
       "      <td>Les d&amp;eacute;lib&amp;eacute;rations (1790-1982) so...</td>\n",
       "    </tr>\n",
       "    <tr>\n",
       "      <th>57</th>\n",
       "      <td>Ressources Web</td>\n",
       "      <td>RES_WEB</td>\n",
       "      <td>NaN</td>\n",
       "    </tr>\n",
       "    <tr>\n",
       "      <th>58</th>\n",
       "      <td>Roubaisiens, victimes des guerres</td>\n",
       "      <td>RBX_AMR_VIC</td>\n",
       "      <td>Collection en cours de mise en ligne. Fiches i...</td>\n",
       "    </tr>\n",
       "    <tr>\n",
       "      <th>59</th>\n",
       "      <td>Roubaix-Tourcoing</td>\n",
       "      <td>RBX_PRA_RTG</td>\n",
       "      <td>NaN</td>\n",
       "    </tr>\n",
       "    <tr>\n",
       "      <th>60</th>\n",
       "      <td>Souvenirs de foot</td>\n",
       "      <td>RBX_MED_FOO</td>\n",
       "      <td>Des fans du football &amp;agrave; Roubaix vous rac...</td>\n",
       "    </tr>\n",
       "  </tbody>\n",
       "</table>\n",
       "<p>61 rows × 3 columns</p>\n",
       "</div>"
      ],
      "text/plain": [
       "                                              setName      setSpec  \\\n",
       "0                          Affiches de la Médiathèque  RBX_MED_AFF   \n",
       "1          Archives de la communauté juive de Roubaix  RBX_MED_COM   \n",
       "2                        Archives du Musée La Piscine  RBX_MUS_ARC   \n",
       "3   Archives Elections et personnel (1789-1985) sé...  RBX_AMR_AMK   \n",
       "4                     Archives État civil (1790-1971)  RBX_AMR_AME   \n",
       "..                                                ...          ...   \n",
       "56              Registres de délibérations tapuscrits  RBX_AMR_DEL   \n",
       "57                                     Ressources Web      RES_WEB   \n",
       "58                  Roubaisiens, victimes des guerres  RBX_AMR_VIC   \n",
       "59                                  Roubaix-Tourcoing  RBX_PRA_RTG   \n",
       "60                                  Souvenirs de foot  RBX_MED_FOO   \n",
       "\n",
       "                                      set_description  \n",
       "0   Affiches tous formats conserv&eacute;es dans l...  \n",
       "1                                                 NaN  \n",
       "2   Oeuvres iconographiques diverses (affiches, gr...  \n",
       "3                                                 NaN  \n",
       "4                                                 NaN  \n",
       "..                                                ...  \n",
       "56  Les d&eacute;lib&eacute;rations (1790-1982) so...  \n",
       "57                                                NaN  \n",
       "58  Collection en cours de mise en ligne. Fiches i...  \n",
       "59                                                NaN  \n",
       "60  Des fans du football &agrave; Roubaix vous rac...  \n",
       "\n",
       "[61 rows x 3 columns]"
      ]
     },
     "execution_count": 7,
     "metadata": {},
     "output_type": "execute_result"
    }
   ],
   "source": [
    "oai_sets"
   ]
  },
  {
   "cell_type": "code",
   "execution_count": 20,
   "id": "052167a3",
   "metadata": {},
   "outputs": [],
   "source": [
    "oai_sets['partenaire'] = oai_sets['setSpec'].str.extract(r'^RBX_(\\w+)_\\w+$')\n",
    "oai_sets['collection'] = oai_sets['setSpec'].str.extract(r'RBX_\\w+_(\\w+)')"
   ]
  },
  {
   "cell_type": "code",
   "execution_count": 21,
   "id": "3f90659e",
   "metadata": {},
   "outputs": [],
   "source": [
    "ead_inv['archdesc_did_unitid'] = ead_inv['archdesc_did_unitid'].str.replace(\"RBX_\", \"\")\n",
    "ead_inv['partenaire'] = ead_inv['archdesc_did_unitid'].str[0:3]\n",
    "ead_inv['collection'] = ead_inv['archdesc_did_unitid'].str.extract(r'\\w+_(\\w+)')"
   ]
  },
  {
   "cell_type": "code",
   "execution_count": 22,
   "id": "c2523744",
   "metadata": {},
   "outputs": [],
   "source": [
    "ead_inv.merge(oai_sets, on=['partenaire', 'collection'], how='outer').to_excel(join(data_folder, \"ead_oai.xlsx\"), index=False)"
   ]
  },
  {
   "cell_type": "code",
   "execution_count": 23,
   "id": "79389fbd",
   "metadata": {},
   "outputs": [
    {
     "data": {
      "text/plain": [
       "partenaire\n",
       "MED    25\n",
       "MUS     3\n",
       "CSV     1\n",
       "MDF     1\n",
       "LAI     1\n",
       "ARA     1\n",
       "OBS     1\n",
       "VAH     1\n",
       "LAR     1\n",
       "Name: count, dtype: int64"
      ]
     },
     "execution_count": 23,
     "metadata": {},
     "output_type": "execute_result"
    }
   ],
   "source": [
    "ead_inv['partenaire'].value_counts()"
   ]
  },
  {
   "cell_type": "code",
   "execution_count": 24,
   "id": "f7be63df",
   "metadata": {},
   "outputs": [
    {
     "data": {
      "text/plain": [
       "partenaire\n",
       "MED    23\n",
       "AMR    19\n",
       "PRA     7\n",
       "MUS     2\n",
       "ARA     1\n",
       "MDF     1\n",
       "OBS     1\n",
       "CSV     1\n",
       "CHR     1\n",
       "LAR     1\n",
       "VAH     1\n",
       "Name: count, dtype: int64"
      ]
     },
     "execution_count": 24,
     "metadata": {},
     "output_type": "execute_result"
    }
   ],
   "source": [
    "oai_sets['partenaire'].value_counts()"
   ]
  },
  {
   "cell_type": "code",
   "execution_count": null,
   "id": "e4552f0c",
   "metadata": {},
   "outputs": [],
   "source": []
  },
  {
   "cell_type": "code",
   "execution_count": null,
   "id": "d34bfbce",
   "metadata": {},
   "outputs": [],
   "source": []
  }
 ],
 "metadata": {
  "kernelspec": {
   "display_name": "Python 3 (ipykernel)",
   "language": "python",
   "name": "python3"
  },
  "language_info": {
   "codemirror_mode": {
    "name": "ipython",
    "version": 3
   },
   "file_extension": ".py",
   "mimetype": "text/x-python",
   "name": "python",
   "nbconvert_exporter": "python",
   "pygments_lexer": "ipython3",
   "version": "3.11.5"
  }
 },
 "nbformat": 4,
 "nbformat_minor": 5
}
