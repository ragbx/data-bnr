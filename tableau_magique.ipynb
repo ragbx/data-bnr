{
 "cells": [
  {
   "cell_type": "code",
   "execution_count": 1,
   "id": "e520288e",
   "metadata": {},
   "outputs": [],
   "source": [
    "import pandas as pd\n",
    "from os.path import join"
   ]
  },
  {
   "cell_type": "code",
   "execution_count": 24,
   "id": "69304588",
   "metadata": {},
   "outputs": [],
   "source": [
    "data_folder = \"data\"\n",
    "tm_file = join(data_folder, \"tableau_magique_20231211.xlsx\")\n",
    "tm_xl = pd.ExcelFile(tm_file)\n",
    "tm_df = pd.DataFrame()\n",
    "for sheet in tm_xl.sheet_names:\n",
    "    df = tm_xl.parse(sheet)\n",
    "    df['partenaire'] = sheet\n",
    "    tm_df = pd.concat([tm_df, df])"
   ]
  },
  {
   "cell_type": "code",
   "execution_count": 25,
   "id": "f7548d18",
   "metadata": {},
   "outputs": [
    {
     "data": {
      "text/plain": [
       "Index(['année de réalisation', 'Typologie', 'détail ', 'nb de documents',\n",
       "       'nb de fichiers', 'volumétrie (Go)', 'coût', 'financement ',\n",
       "       'prestataire de numérisation / captation', 'sauvegarde serveur',\n",
       "       'dossier', 'sauvegarde DDE', 'dossier.1', 'sauvegarde DVD', 'dossier.2',\n",
       "       'format des fichiers', 'remarque format', 'diffusion', 'remarques 1',\n",
       "       'remarques 2', 'partenaire', 'Unnamed: 20'],\n",
       "      dtype='object')"
      ]
     },
     "execution_count": 25,
     "metadata": {},
     "output_type": "execute_result"
    }
   ],
   "source": [
    "tm_df.columns"
   ]
  },
  {
   "cell_type": "code",
   "execution_count": 26,
   "id": "0bd3885f",
   "metadata": {},
   "outputs": [],
   "source": [
    "tm_df = tm_df.dropna(subset='Typologie')\n",
    "tmp = tm_df[tm_df['Typologie'] == 'Présentation des Archives']\n",
    "tm_df = tm_df[tm_df['Typologie'].astype(str).str.match('^[A-Z]{2,4}$')]\n",
    "tm_df = pd.concat([tm_df, tmp])\n",
    "tm_df = tm_df.sort_values(by=['partenaire', 'Typologie', 'détail ', 'année de réalisation'])"
   ]
  },
  {
   "cell_type": "code",
   "execution_count": 27,
   "id": "2030dc8a",
   "metadata": {},
   "outputs": [
    {
     "data": {
      "text/plain": [
       "131444.0"
      ]
     },
     "execution_count": 27,
     "metadata": {},
     "output_type": "execute_result"
    }
   ],
   "source": [
    "tm_df['nb de documents'].sum()"
   ]
  },
  {
   "cell_type": "code",
   "execution_count": 28,
   "id": "4ad3587c",
   "metadata": {},
   "outputs": [
    {
     "data": {
      "text/plain": [
       "1973472.0"
      ]
     },
     "execution_count": 28,
     "metadata": {},
     "output_type": "execute_result"
    }
   ],
   "source": [
    "tm_df['nb de fichiers'].sum()"
   ]
  },
  {
   "cell_type": "code",
   "execution_count": 29,
   "id": "c9f57dca",
   "metadata": {},
   "outputs": [
    {
     "data": {
      "text/plain": [
       "15505.014"
      ]
     },
     "execution_count": 29,
     "metadata": {},
     "output_type": "execute_result"
    }
   ],
   "source": [
    "tm_df['volumétrie (Go)'].astype(float).sum()"
   ]
  },
  {
   "cell_type": "code",
   "execution_count": null,
   "id": "c0d817ed",
   "metadata": {},
   "outputs": [],
   "source": []
  }
 ],
 "metadata": {
  "kernelspec": {
   "display_name": "Python 3 (ipykernel)",
   "language": "python",
   "name": "python3"
  },
  "language_info": {
   "codemirror_mode": {
    "name": "ipython",
    "version": 3
   },
   "file_extension": ".py",
   "mimetype": "text/x-python",
   "name": "python",
   "nbconvert_exporter": "python",
   "pygments_lexer": "ipython3",
   "version": "3.11.5"
  }
 },
 "nbformat": 4,
 "nbformat_minor": 5
}
