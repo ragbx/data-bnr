{
 "cells": [
  {
   "cell_type": "code",
   "execution_count": 1,
   "id": "0bb11de3",
   "metadata": {},
   "outputs": [],
   "source": [
    "from os.path import join\n",
    "import bnr.azrael as azrael\n",
    "\n",
    "import pandas as pd\n",
    "import numpy as np\n",
    "import sidetable"
   ]
  },
  {
   "cell_type": "code",
   "execution_count": 14,
   "id": "0355df3d",
   "metadata": {},
   "outputs": [],
   "source": [
    "data_folder = \"data\"\n",
    "az2a = azrael.Azrael2analysis()\n",
    "az2a.create_az(path_az=join(data_folder, \"dde_df_md5ok_notinazrael.csv.gz\"))\n",
    "\n",
    "az2a.az['path'] = az2a.az['path'].str.replace(\"\\\\\", \"/\")\n",
    "az2a.split_path()\n",
    "az2a.get_extension_mimetype()\n",
    "dde = az2a.az"
   ]
  },
  {
   "cell_type": "code",
   "execution_count": 16,
   "id": "9eca7fdc",
   "metadata": {},
   "outputs": [
    {
     "data": {
      "text/plain": [
       "Index(['name', 'path', 'md5', 'size', 'last_content_modification_date',\n",
       "       'last_metadata_modification_date', 'prefix', 'path0', 'path1', 'path2',\n",
       "       'path3', 'path4', 'extension', 'mimetype', 'guessed_extension'],\n",
       "      dtype='object')"
      ]
     },
     "execution_count": 16,
     "metadata": {},
     "output_type": "execute_result"
    }
   ],
   "source": [
    "dde.columns"
   ]
  },
  {
   "cell_type": "code",
   "execution_count": 18,
   "id": "08aa99b0",
   "metadata": {},
   "outputs": [
    {
     "data": {
      "text/plain": [
       "mimetype\n",
       "image/jpeg                                                                   267297\n",
       "application/pdf                                                               98375\n",
       "text/plain                                                                    73697\n",
       "audio/mpeg                                                                     3551\n",
       "image/tiff                                                                     2314\n",
       "application/msword                                                              808\n",
       "application/vnd.openxmlformats-officedocument.wordprocessingml.document         457\n",
       "application/vnd.ms-excel                                                        453\n",
       "application/vnd.oasis.opendocument.spreadsheet                                  231\n",
       "text/javascript                                                                 185\n",
       "image/png                                                                       183\n",
       "font/ttf                                                                        161\n",
       "application/x-msdos-program                                                      93\n",
       "application/vnd.openxmlformats-officedocument.spreadsheetml.sheet                88\n",
       "text/css                                                                         80\n",
       "application/vnd.oasis.opendocument.text                                          79\n",
       "text/csv                                                                         70\n",
       "video/x-msvideo                                                                  64\n",
       "application/rtf                                                                  60\n",
       "video/quicktime                                                                  58\n",
       "text/html                                                                        43\n",
       "image/webp                                                                       40\n",
       "model/vnd.mts                                                                    21\n",
       "image/bmp                                                                        17\n",
       "image/gif                                                                        14\n",
       "application/vnd.openxmlformats-officedocument.presentationml.presentation        13\n",
       "application/vnd.ms-pki.seccat                                                    12\n",
       "application/postscript                                                           11\n",
       "image/vnd.adobe.photoshop                                                        10\n",
       "application/xml                                                                   9\n",
       "text/x-sh                                                                         8\n",
       "application/zip                                                                   6\n",
       "application/vnd.iccprofile                                                        6\n",
       "application/vnd.oasis.opendocument.graphics                                       5\n",
       "image/vnd.microsoft.icon                                                          5\n",
       "image/x-xcf                                                                       4\n",
       "application/vnd.pg.format                                                         4\n",
       "application/vnd.ms-powerpoint                                                     3\n",
       "application/x-apple-diskimage                                                     2\n",
       "application/octet-stream                                                          2\n",
       "application/xhtml+xml                                                             2\n",
       "application/vnd.sun.xml.writer                                                    2\n",
       "application/x-msi                                                                 2\n",
       "text/vnd.graphviz                                                                 2\n",
       "application/x-rdp                                                                 1\n",
       "video/mp4                                                                         1\n",
       "Name: count, dtype: int64"
      ]
     },
     "execution_count": 18,
     "metadata": {},
     "output_type": "execute_result"
    }
   ],
   "source": [
    "dde['mimetype'].value_counts()"
   ]
  },
  {
   "cell_type": "code",
   "execution_count": 20,
   "id": "6f1e00df",
   "metadata": {},
   "outputs": [
    {
     "data": {
      "text/plain": [
       "26"
      ]
     },
     "execution_count": 20,
     "metadata": {},
     "output_type": "execute_result"
    }
   ],
   "source": [
    "dde[dde['path0'].isna()]"
   ]
  },
  {
   "cell_type": "code",
   "execution_count": 21,
   "id": "8eb5a8f6",
   "metadata": {},
   "outputs": [
    {
     "data": {
      "text/plain": [
       "path0\n",
       "TRANCHE CONDITIONNELLE    219435\n",
       "FORMAT DE CONSULTATION     85780\n",
       "Laurence à examiner        77044\n",
       "                           30027\n",
       "Bernard Prevot              8842\n",
       "                           ...  \n",
       "VDM_I14                        1\n",
       "VDM_I40                        1\n",
       "PAR_TUR                        1\n",
       "VDM_LFP                        1\n",
       "VDM_CAT                        1\n",
       "Name: count, Length: 149, dtype: int64"
      ]
     },
     "execution_count": 21,
     "metadata": {},
     "output_type": "execute_result"
    }
   ],
   "source": [
    "dde['path0'].value_counts()"
   ]
  },
  {
   "cell_type": "code",
   "execution_count": null,
   "id": "0a965ef0",
   "metadata": {},
   "outputs": [],
   "source": []
  }
 ],
 "metadata": {
  "kernelspec": {
   "display_name": "Python 3 (ipykernel)",
   "language": "python",
   "name": "python3"
  },
  "language_info": {
   "codemirror_mode": {
    "name": "ipython",
    "version": 3
   },
   "file_extension": ".py",
   "mimetype": "text/x-python",
   "name": "python",
   "nbconvert_exporter": "python",
   "pygments_lexer": "ipython3",
   "version": "3.11.5"
  }
 },
 "nbformat": 4,
 "nbformat_minor": 5
}
