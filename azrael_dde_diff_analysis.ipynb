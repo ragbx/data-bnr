{
 "cells": [
  {
   "cell_type": "code",
   "execution_count": 1,
   "id": "0bb11de3",
   "metadata": {},
   "outputs": [],
   "source": [
    "from os.path import join\n",
    "import bnr.azrael as azrael\n",
    "\n",
    "import pandas as pd\n",
    "import numpy as np\n",
    "import sidetable"
   ]
  },
  {
   "cell_type": "markdown",
   "id": "b54765bd-573f-4088-8a5b-b6981fdd15ff",
   "metadata": {},
   "source": [
    "# Avec MD5"
   ]
  },
  {
   "cell_type": "code",
   "execution_count": 13,
   "id": "0355df3d",
   "metadata": {},
   "outputs": [],
   "source": [
    "data_folder = \"data\"\n",
    "az2a = azrael.Azrael2analysis()\n",
    "az2a.create_az(path_az=join(data_folder, \"dde_df_md5ok_notinazrael.csv.gz\"))\n",
    "\n",
    "az2a.az['path'] = az2a.az['path'].str.replace(\"\\\\\", \"/\")\n",
    "az2a.split_path()\n",
    "az2a.get_extension_mimetype()\n",
    "dde_md5 = az2a.az"
   ]
  },
  {
   "cell_type": "code",
   "execution_count": 14,
   "id": "9eca7fdc",
   "metadata": {},
   "outputs": [
    {
     "data": {
      "text/plain": [
       "Index(['name', 'path', 'size', 'last_content_modification_date',\n",
       "       'last_metadata_modification_date', 'prefix', 'md5', 'path0', 'path1',\n",
       "       'path2', 'path3', 'path4', 'extension', 'mimetype',\n",
       "       'guessed_extension'],\n",
       "      dtype='object')"
      ]
     },
     "execution_count": 14,
     "metadata": {},
     "output_type": "execute_result"
    }
   ],
   "source": [
    "dde_md5.columns"
   ]
  },
  {
   "cell_type": "code",
   "execution_count": 30,
   "id": "6f1e00df",
   "metadata": {},
   "outputs": [],
   "source": [
    "dde_md5 = dde_md5[~dde_md5['path0'].isna()]\n",
    "dde_md5_application = dde_md5[dde_md5['mimetype'].str[0:11] == \"application\"]\n",
    "dde_md5_application = dde_md5_application[dde_md5_application['mimetype'] != 'application/pdf']\n",
    "dde_md5_application.to_excel(\"results/dde_md5_application.xlsx\", index=False)"
   ]
  },
  {
   "cell_type": "code",
   "execution_count": 32,
   "id": "f9975ea0-b2b6-4cef-9e33-3b0fa0852410",
   "metadata": {},
   "outputs": [],
   "source": [
    "dde_md5 = dde_md5[~dde_md5['md5'].isin(dde_md5_application['md5'])]"
   ]
  },
  {
   "cell_type": "code",
   "execution_count": 33,
   "id": "08aa99b0",
   "metadata": {},
   "outputs": [
    {
     "data": {
      "text/plain": [
       "mimetype\n",
       "image/jpeg                   267297\n",
       "application/pdf               98375\n",
       "text/plain                    73696\n",
       "audio/mpeg                     3551\n",
       "image/tiff                     2314\n",
       "text/javascript                 185\n",
       "image/png                       183\n",
       "font/ttf                        161\n",
       "text/css                         80\n",
       "text/csv                         68\n",
       "video/x-msvideo                  64\n",
       "video/quicktime                  57\n",
       "text/html                        43\n",
       "image/webp                       40\n",
       "model/vnd.mts                    21\n",
       "image/bmp                        17\n",
       "image/gif                        14\n",
       "image/vnd.adobe.photoshop        10\n",
       "text/x-sh                         8\n",
       "image/vnd.microsoft.icon          4\n",
       "image/x-xcf                       4\n",
       "text/vnd.graphviz                 2\n",
       "Name: count, dtype: int64"
      ]
     },
     "execution_count": 33,
     "metadata": {},
     "output_type": "execute_result"
    }
   ],
   "source": [
    "dde_md5['mimetype'].value_counts()"
   ]
  },
  {
   "cell_type": "code",
   "execution_count": 17,
   "id": "8eb5a8f6",
   "metadata": {},
   "outputs": [
    {
     "data": {
      "text/plain": [
       "path0\n",
       "TRANCHE CONDITIONNELLE    219435\n",
       "FORMAT DE CONSULTATION     85780\n",
       "Laurence à examiner        77044\n",
       "                           30027\n",
       "Bernard Prevot              8842\n",
       "                           ...  \n",
       "VDM_I14                        1\n",
       "VDM_I40                        1\n",
       "PAR_TUR                        1\n",
       "VDM_LFP                        1\n",
       "VDM_CAT                        1\n",
       "Name: count, Length: 149, dtype: int64"
      ]
     },
     "execution_count": 17,
     "metadata": {},
     "output_type": "execute_result"
    }
   ],
   "source": [
    "dde_md5['path0'].value_counts()"
   ]
  },
  {
   "cell_type": "markdown",
   "id": "cd43dd8e-c3e3-44ec-ba9c-074311e86e1d",
   "metadata": {},
   "source": [
    "# Sans MD5"
   ]
  },
  {
   "cell_type": "code",
   "execution_count": 18,
   "id": "279c9236-7d89-4ce7-88e4-9ca26f4c3efb",
   "metadata": {},
   "outputs": [],
   "source": [
    "data_folder = \"data\"\n",
    "az2a = azrael.Azrael2analysis()\n",
    "az2a.create_az(path_az=join(data_folder, \"dde_df_md5ko_notinazrael.csv.gz\"))\n",
    "\n",
    "az2a.az['path'] = az2a.az['path'].str.replace(\"\\\\\", \"/\")\n",
    "az2a.split_path()\n",
    "az2a.get_extension_mimetype()\n",
    "dde_nomd5 = az2a.az"
   ]
  },
  {
   "cell_type": "code",
   "execution_count": 19,
   "id": "7399eb3a-199f-4ab2-8ce9-0b10e3867563",
   "metadata": {},
   "outputs": [
    {
     "data": {
      "text/plain": [
       "mimetype\n",
       "image/jpeg                                        252638\n",
       "text/csv                                               6\n",
       "image/tiff                                             3\n",
       "application/pdf                                        2\n",
       "text/plain                                             2\n",
       "application/vnd.oasis.opendocument.spreadsheet         1\n",
       "application/vnd.ms-excel                               1\n",
       "Name: count, dtype: int64"
      ]
     },
     "execution_count": 19,
     "metadata": {},
     "output_type": "execute_result"
    }
   ],
   "source": [
    "dde_nomd5['mimetype'].value_counts()"
   ]
  },
  {
   "cell_type": "code",
   "execution_count": 20,
   "id": "babe39c2-03df-4ff6-9103-bbe505fed996",
   "metadata": {},
   "outputs": [
    {
     "data": {
      "text/html": [
       "<div>\n",
       "<style scoped>\n",
       "    .dataframe tbody tr th:only-of-type {\n",
       "        vertical-align: middle;\n",
       "    }\n",
       "\n",
       "    .dataframe tbody tr th {\n",
       "        vertical-align: top;\n",
       "    }\n",
       "\n",
       "    .dataframe thead th {\n",
       "        text-align: right;\n",
       "    }\n",
       "</style>\n",
       "<table border=\"1\" class=\"dataframe\">\n",
       "  <thead>\n",
       "    <tr style=\"text-align: right;\">\n",
       "      <th></th>\n",
       "      <th>name</th>\n",
       "      <th>path</th>\n",
       "      <th>size</th>\n",
       "      <th>last_content_modification_date</th>\n",
       "      <th>last_metadata_modification_date</th>\n",
       "      <th>prefix</th>\n",
       "      <th>md5</th>\n",
       "      <th>path0</th>\n",
       "      <th>path1</th>\n",
       "      <th>path2</th>\n",
       "      <th>path3</th>\n",
       "      <th>path4</th>\n",
       "      <th>extension</th>\n",
       "      <th>mimetype</th>\n",
       "      <th>guessed_extension</th>\n",
       "    </tr>\n",
       "  </thead>\n",
       "  <tbody>\n",
       "    <tr>\n",
       "      <th>186512</th>\n",
       "      <td>PRA_ERT_19410219_005.pdf</td>\n",
       "      <td>E:/LIVRAISON 5/PDF/PRA_ERT/PRA_ERT_1941</td>\n",
       "      <td>4669144</td>\n",
       "      <td>1.291130e+09</td>\n",
       "      <td>1.288382e+09</td>\n",
       "      <td>d021</td>\n",
       "      <td>NaN</td>\n",
       "      <td>E:</td>\n",
       "      <td>LIVRAISON 5</td>\n",
       "      <td>PDF</td>\n",
       "      <td>PRA_ERT</td>\n",
       "      <td>PRA_ERT_1941</td>\n",
       "      <td>.pdf</td>\n",
       "      <td>application/pdf</td>\n",
       "      <td>.pdf</td>\n",
       "    </tr>\n",
       "    <tr>\n",
       "      <th>186513</th>\n",
       "      <td>PRA_ERT_19410219_005.txt</td>\n",
       "      <td>E:/LIVRAISON 5/PDF/PRA_ERT/PRA_ERT_1941</td>\n",
       "      <td>227152</td>\n",
       "      <td>1.296220e+09</td>\n",
       "      <td>1.296220e+09</td>\n",
       "      <td>d021</td>\n",
       "      <td>NaN</td>\n",
       "      <td>E:</td>\n",
       "      <td>LIVRAISON 5</td>\n",
       "      <td>PDF</td>\n",
       "      <td>PRA_ERT</td>\n",
       "      <td>PRA_ERT_1941</td>\n",
       "      <td>.txt</td>\n",
       "      <td>text/plain</td>\n",
       "      <td>.txt</td>\n",
       "    </tr>\n",
       "    <tr>\n",
       "      <th>186514</th>\n",
       "      <td>PRA_ERT_19410219_006.pdf</td>\n",
       "      <td>E:/LIVRAISON 5/PDF/PRA_ERT/PRA_ERT_1941</td>\n",
       "      <td>4770593</td>\n",
       "      <td>1.291130e+09</td>\n",
       "      <td>1.288382e+09</td>\n",
       "      <td>d021</td>\n",
       "      <td>NaN</td>\n",
       "      <td>E:</td>\n",
       "      <td>LIVRAISON 5</td>\n",
       "      <td>PDF</td>\n",
       "      <td>PRA_ERT</td>\n",
       "      <td>PRA_ERT_1941</td>\n",
       "      <td>.pdf</td>\n",
       "      <td>application/pdf</td>\n",
       "      <td>.pdf</td>\n",
       "    </tr>\n",
       "    <tr>\n",
       "      <th>186515</th>\n",
       "      <td>PRA_ERT_19410219_006.txt</td>\n",
       "      <td>E:/LIVRAISON 5/PDF/PRA_ERT/PRA_ERT_1941</td>\n",
       "      <td>81939</td>\n",
       "      <td>1.296220e+09</td>\n",
       "      <td>1.296220e+09</td>\n",
       "      <td>d021</td>\n",
       "      <td>NaN</td>\n",
       "      <td>E:</td>\n",
       "      <td>LIVRAISON 5</td>\n",
       "      <td>PDF</td>\n",
       "      <td>PRA_ERT</td>\n",
       "      <td>PRA_ERT_1941</td>\n",
       "      <td>.txt</td>\n",
       "      <td>text/plain</td>\n",
       "      <td>.txt</td>\n",
       "    </tr>\n",
       "    <tr>\n",
       "      <th>186516</th>\n",
       "      <td>PRA_ERT_19410219_005.tif</td>\n",
       "      <td>E:/LIVRAISON 5/TIF/PRA_ERT/PRA_ERT_1941</td>\n",
       "      <td>26502766</td>\n",
       "      <td>1.291122e+09</td>\n",
       "      <td>1.288040e+09</td>\n",
       "      <td>d021</td>\n",
       "      <td>NaN</td>\n",
       "      <td>E:</td>\n",
       "      <td>LIVRAISON 5</td>\n",
       "      <td>TIF</td>\n",
       "      <td>PRA_ERT</td>\n",
       "      <td>PRA_ERT_1941</td>\n",
       "      <td>.tif</td>\n",
       "      <td>image/tiff</td>\n",
       "      <td>.tiff</td>\n",
       "    </tr>\n",
       "    <tr>\n",
       "      <th>186517</th>\n",
       "      <td>PRA_ERT_19410219_006.tif</td>\n",
       "      <td>E:/LIVRAISON 5/TIF/PRA_ERT/PRA_ERT_1941</td>\n",
       "      <td>28841939</td>\n",
       "      <td>1.291122e+09</td>\n",
       "      <td>1.288040e+09</td>\n",
       "      <td>d021</td>\n",
       "      <td>NaN</td>\n",
       "      <td>E:</td>\n",
       "      <td>LIVRAISON 5</td>\n",
       "      <td>TIF</td>\n",
       "      <td>PRA_ERT</td>\n",
       "      <td>PRA_ERT_1941</td>\n",
       "      <td>.tif</td>\n",
       "      <td>image/tiff</td>\n",
       "      <td>.tiff</td>\n",
       "    </tr>\n",
       "    <tr>\n",
       "      <th>186518</th>\n",
       "      <td>PRA_ERT_19300526_001.tif</td>\n",
       "      <td>E:/TIF/PRA_ERT/PRA_ERT_1930</td>\n",
       "      <td>32279122</td>\n",
       "      <td>1.345029e+09</td>\n",
       "      <td>1.286984e+09</td>\n",
       "      <td>d016</td>\n",
       "      <td>NaN</td>\n",
       "      <td>E:</td>\n",
       "      <td>TIF</td>\n",
       "      <td>PRA_ERT</td>\n",
       "      <td>PRA_ERT_1930</td>\n",
       "      <td>None</td>\n",
       "      <td>.tif</td>\n",
       "      <td>image/tiff</td>\n",
       "      <td>.tiff</td>\n",
       "    </tr>\n",
       "  </tbody>\n",
       "</table>\n",
       "</div>"
      ],
      "text/plain": [
       "                            name                                     path  \\\n",
       "186512  PRA_ERT_19410219_005.pdf  E:/LIVRAISON 5/PDF/PRA_ERT/PRA_ERT_1941   \n",
       "186513  PRA_ERT_19410219_005.txt  E:/LIVRAISON 5/PDF/PRA_ERT/PRA_ERT_1941   \n",
       "186514  PRA_ERT_19410219_006.pdf  E:/LIVRAISON 5/PDF/PRA_ERT/PRA_ERT_1941   \n",
       "186515  PRA_ERT_19410219_006.txt  E:/LIVRAISON 5/PDF/PRA_ERT/PRA_ERT_1941   \n",
       "186516  PRA_ERT_19410219_005.tif  E:/LIVRAISON 5/TIF/PRA_ERT/PRA_ERT_1941   \n",
       "186517  PRA_ERT_19410219_006.tif  E:/LIVRAISON 5/TIF/PRA_ERT/PRA_ERT_1941   \n",
       "186518  PRA_ERT_19300526_001.tif              E:/TIF/PRA_ERT/PRA_ERT_1930   \n",
       "\n",
       "            size  last_content_modification_date  \\\n",
       "186512   4669144                    1.291130e+09   \n",
       "186513    227152                    1.296220e+09   \n",
       "186514   4770593                    1.291130e+09   \n",
       "186515     81939                    1.296220e+09   \n",
       "186516  26502766                    1.291122e+09   \n",
       "186517  28841939                    1.291122e+09   \n",
       "186518  32279122                    1.345029e+09   \n",
       "\n",
       "        last_metadata_modification_date prefix  md5 path0        path1  \\\n",
       "186512                     1.288382e+09   d021  NaN    E:  LIVRAISON 5   \n",
       "186513                     1.296220e+09   d021  NaN    E:  LIVRAISON 5   \n",
       "186514                     1.288382e+09   d021  NaN    E:  LIVRAISON 5   \n",
       "186515                     1.296220e+09   d021  NaN    E:  LIVRAISON 5   \n",
       "186516                     1.288040e+09   d021  NaN    E:  LIVRAISON 5   \n",
       "186517                     1.288040e+09   d021  NaN    E:  LIVRAISON 5   \n",
       "186518                     1.286984e+09   d016  NaN    E:          TIF   \n",
       "\n",
       "          path2         path3         path4 extension         mimetype  \\\n",
       "186512      PDF       PRA_ERT  PRA_ERT_1941      .pdf  application/pdf   \n",
       "186513      PDF       PRA_ERT  PRA_ERT_1941      .txt       text/plain   \n",
       "186514      PDF       PRA_ERT  PRA_ERT_1941      .pdf  application/pdf   \n",
       "186515      PDF       PRA_ERT  PRA_ERT_1941      .txt       text/plain   \n",
       "186516      TIF       PRA_ERT  PRA_ERT_1941      .tif       image/tiff   \n",
       "186517      TIF       PRA_ERT  PRA_ERT_1941      .tif       image/tiff   \n",
       "186518  PRA_ERT  PRA_ERT_1930          None      .tif       image/tiff   \n",
       "\n",
       "       guessed_extension  \n",
       "186512              .pdf  \n",
       "186513              .txt  \n",
       "186514              .pdf  \n",
       "186515              .txt  \n",
       "186516             .tiff  \n",
       "186517             .tiff  \n",
       "186518             .tiff  "
      ]
     },
     "execution_count": 20,
     "metadata": {},
     "output_type": "execute_result"
    }
   ],
   "source": [
    "dde_nomd5[dde_nomd5['mimetype'].isin(['image/tiff', 'application/pdf', 'text/plain'])]"
   ]
  },
  {
   "cell_type": "code",
   "execution_count": null,
   "id": "c14b6ff4-a4e0-4341-b12d-1df4b31de2a7",
   "metadata": {},
   "outputs": [],
   "source": []
  }
 ],
 "metadata": {
  "kernelspec": {
   "display_name": "Python 3 (ipykernel)",
   "language": "python",
   "name": "python3"
  },
  "language_info": {
   "codemirror_mode": {
    "name": "ipython",
    "version": 3
   },
   "file_extension": ".py",
   "mimetype": "text/x-python",
   "name": "python",
   "nbconvert_exporter": "python",
   "pygments_lexer": "ipython3",
   "version": "3.11.5"
  }
 },
 "nbformat": 4,
 "nbformat_minor": 5
}
