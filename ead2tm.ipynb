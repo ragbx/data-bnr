{
 "cells": [
  {
   "cell_type": "code",
   "execution_count": 3,
   "id": "23191f0c",
   "metadata": {},
   "outputs": [],
   "source": [
    "import pandas as pd\n",
    "from os.path import join"
   ]
  },
  {
   "cell_type": "code",
   "execution_count": 6,
   "id": "5f95c8df",
   "metadata": {},
   "outputs": [],
   "source": [
    "data_folder = \"results\"\n",
    "df = pd.read_excel(join(data_folder, \"ead_inventaires_notices.xlsx\"))"
   ]
  },
  {
   "cell_type": "code",
   "execution_count": 8,
   "id": "c53bb418",
   "metadata": {},
   "outputs": [
    {
     "data": {
      "text/plain": [
       "Index(['eadheader_eadid', 'eadheader_titleproper', 'archdesc_did_repository',\n",
       "       'archdesc_did_unitid', 'archdesc_did_unittitle',\n",
       "       'subfonds_dao_file_first', 'subfonds_did_repository',\n",
       "       'subfonds_did_unitid', 'subfonds_did_unittitle',\n",
       "       'series_did_repository', 'series_did_unitid', 'series_did_unittitle',\n",
       "       'subseries_dao_file_first', 'subseries_dao_file_last',\n",
       "       'subseries_did_repository', 'subseries_did_unitid',\n",
       "       'subseries_did_unittitle', 'file_dao_audience', 'file_dao_file_first',\n",
       "       'file_dao_file_last', 'file_did_repository', 'file_did_unitid',\n",
       "       'file_did_unittitle', 'subfile_did_unitid', 'subfile_did_unittitle',\n",
       "       'item_dao_audience', 'item_dao_file_first', 'item_dao_file_last',\n",
       "       'item_did_repository', 'item_did_unitid', 'item_did_unittitle'],\n",
       "      dtype='object')"
      ]
     },
     "execution_count": 8,
     "metadata": {},
     "output_type": "execute_result"
    }
   ],
   "source": [
    "df.columns"
   ]
  },
  {
   "cell_type": "code",
   "execution_count": 9,
   "id": "88e7760c",
   "metadata": {},
   "outputs": [
    {
     "data": {
      "text/plain": [
       "array(['FR595129901_MUS_01', 'FR595129901_MED_15', 'FR595129901_MED_11',\n",
       "       'FR595129901_CSV_01', 'FR595129901_MED_09', 'FR59129901_MED_25',\n",
       "       'FR595129901_MED_06', 'FR595129901_MED_14', 'FR595129901_MED_18',\n",
       "       'FR595129901_MED_19', 'FR595129901_MED_23', 'FR595129901_MED_05',\n",
       "       'FR595129901_MDF_01', 'FR59512901_MED_16', 'FR595129901_LAI_01',\n",
       "       'FR595129901_MUS_02', 'FR595129901_MED_03', 'FR595129901_MED_01',\n",
       "       'FR595129901_MED_02', 'FR595129901_ARA_01', 'FR595129901_MUS_03',\n",
       "       'FR595129901_MED_08', 'FR595129901_MED_12', 'FR595129901_MED_26',\n",
       "       'FR595129901_MED_04', 'FR595129901_MED_22', 'FR59129901_MED_24',\n",
       "       'FR595129901_MED_20', 'FR595129901_OBS_01', 'FR595129901_VAH_01',\n",
       "       'FR595129901_LAR_01', 'FR595129901_MED_27', 'FR595129901_MED_10',\n",
       "       'FR595129901_MED_07', 'FR595129901_MED_16'], dtype=object)"
      ]
     },
     "execution_count": 9,
     "metadata": {},
     "output_type": "execute_result"
    }
   ],
   "source": [
    "df['eadheader_eadid'].unique()"
   ]
  },
  {
   "cell_type": "code",
   "execution_count": 10,
   "id": "2971333f",
   "metadata": {},
   "outputs": [
    {
     "data": {
      "text/plain": [
       "array(['MUS_ARC', 'MED_FLRS', 'MED_IMA', 'CSV', 'MED_PHO', 'MED_CAT',\n",
       "       'MED_DIL', 'MED_PRO', 'MED_FOO', 'MED_COM', 'RBX_MED_PLA',\n",
       "       'MED_JOU', 'MDF_MTX', 'MED_PIA', 'RBX_LAI', 'MUS_VAI', 'MED_LET',\n",
       "       'MED_MS', 'MED_VDM', 'ARA_CPS', 'MUS_EVE', 'MED_PAR', 'MED_PRA',\n",
       "       'MED_PHD', 'MED_CP', 'MED_MEU', 'MED_PUB', 'MED_EPH', 'OBS_JOU',\n",
       "       'VAH_PUB', 'LAR_PUB', 'MED_RAD', 'MED_MON', 'MED_AFF', 'MED_CHA'],\n",
       "      dtype=object)"
      ]
     },
     "execution_count": 10,
     "metadata": {},
     "output_type": "execute_result"
    }
   ],
   "source": [
    "df['archdesc_did_unitid'].unique()"
   ]
  },
  {
   "cell_type": "code",
   "execution_count": 11,
   "id": "935e76b3",
   "metadata": {},
   "outputs": [
    {
     "data": {
      "text/plain": [
       "array([nan, 'CAT1', 'CAT2', 'CAT3', 'CAT4', 'DIL1_FAM', 'DIL2_DEC',\n",
       "       'DIL3_DEC', 'DIL4_PDC', 'DIL5_ENG', 'DIL6_MDL', 'DIL7_MDN',\n",
       "       'DIL8_EUR', 'PRO1', 'PRO2', 'COM1_CCI', 'COM2_UJJ', 'COM3_JJR',\n",
       "       'COM4_AJC', 'COM5_PIC', 'RBX_MED_PIA1', 'RBX_MED_PIA2',\n",
       "       'RBX_MED_PIA3', 'MUS_EVE_EXP', 'MUS_EVE_EVT', 'PHD_ETA', 'PHD_URB',\n",
       "       'PHD_SOC', 'PHD_GUE', 'PHD_EVE', 'MEU1', 'MEU2', 'MEU3', 'PUB_PAT',\n",
       "       'PUB_ETA'], dtype=object)"
      ]
     },
     "execution_count": 11,
     "metadata": {},
     "output_type": "execute_result"
    }
   ],
   "source": [
    "df['subfonds_did_unitid'].unique()"
   ]
  },
  {
   "cell_type": "code",
   "execution_count": 16,
   "id": "cc03c330",
   "metadata": {},
   "outputs": [
    {
     "name": "stdout",
     "output_type": "stream",
     "text": [
      "FR59129901_MED_24\n",
      "----MED_PUB\n",
      "--------PUB_ETA\n",
      "--------PUB_PAT\n",
      "FR59129901_MED_25\n",
      "----MED_CAT\n",
      "--------CAT1\n",
      "--------CAT2\n",
      "--------CAT3\n",
      "--------CAT4\n",
      "FR59512901_MED_16\n",
      "----MED_PIA\n",
      "--------RBX_MED_PIA1\n",
      "--------RBX_MED_PIA2\n",
      "--------RBX_MED_PIA3\n",
      "FR595129901_ARA_01\n",
      "----ARA_CPS\n",
      "--------nan\n",
      "FR595129901_CSV_01\n",
      "----CSV\n",
      "--------nan\n",
      "FR595129901_LAI_01\n",
      "----RBX_LAI\n",
      "--------nan\n",
      "FR595129901_LAR_01\n",
      "----LAR_PUB\n",
      "--------nan\n",
      "FR595129901_MDF_01\n",
      "----MDF_MTX\n",
      "--------nan\n",
      "FR595129901_MED_01\n",
      "----MED_MS\n",
      "--------nan\n",
      "FR595129901_MED_02\n",
      "----MED_VDM\n",
      "--------nan\n",
      "FR595129901_MED_03\n",
      "----MED_LET\n",
      "--------nan\n",
      "FR595129901_MED_04\n",
      "----MED_CP\n",
      "--------nan\n",
      "FR595129901_MED_05\n",
      "----MED_JOU\n",
      "--------nan\n",
      "FR595129901_MED_06\n",
      "----MED_DIL\n",
      "--------DIL1_FAM\n",
      "--------DIL2_DEC\n",
      "--------DIL3_DEC\n",
      "--------DIL4_PDC\n",
      "--------DIL5_ENG\n",
      "--------DIL6_MDL\n",
      "--------DIL7_MDN\n",
      "--------DIL8_EUR\n",
      "FR595129901_MED_07\n",
      "----MED_AFF\n",
      "--------nan\n",
      "FR595129901_MED_08\n",
      "----MED_PAR\n",
      "--------nan\n",
      "FR595129901_MED_09\n",
      "----MED_PHO\n",
      "--------nan\n",
      "FR595129901_MED_10\n",
      "----MED_MON\n",
      "--------nan\n",
      "FR595129901_MED_11\n",
      "----MED_IMA\n",
      "--------nan\n",
      "FR595129901_MED_12\n",
      "----MED_PRA\n",
      "--------nan\n",
      "FR595129901_MED_14\n",
      "----MED_PRO\n",
      "--------PRO1\n",
      "--------PRO2\n",
      "FR595129901_MED_15\n",
      "----MED_FLRS\n",
      "--------nan\n",
      "FR595129901_MED_16\n",
      "----MED_CHA\n",
      "--------nan\n",
      "FR595129901_MED_18\n",
      "----MED_FOO\n",
      "--------nan\n",
      "FR595129901_MED_19\n",
      "----MED_COM\n",
      "--------COM1_CCI\n",
      "--------COM2_UJJ\n",
      "--------COM3_JJR\n",
      "--------COM4_AJC\n",
      "--------COM5_PIC\n",
      "FR595129901_MED_20\n",
      "----MED_EPH\n",
      "--------nan\n",
      "FR595129901_MED_22\n",
      "----MED_MEU\n",
      "--------MEU1\n",
      "--------MEU2\n",
      "--------MEU3\n",
      "FR595129901_MED_23\n",
      "----RBX_MED_PLA\n",
      "--------nan\n",
      "FR595129901_MED_26\n",
      "----MED_PHD\n",
      "--------PHD_ETA\n",
      "--------PHD_EVE\n",
      "--------PHD_GUE\n",
      "--------PHD_SOC\n",
      "--------PHD_URB\n",
      "FR595129901_MED_27\n",
      "----MED_RAD\n",
      "--------nan\n",
      "FR595129901_MUS_01\n",
      "----MUS_ARC\n",
      "--------nan\n",
      "FR595129901_MUS_02\n",
      "----MUS_VAI\n",
      "--------nan\n",
      "FR595129901_MUS_03\n",
      "----MUS_EVE\n",
      "--------MUS_EVE_EVT\n",
      "--------MUS_EVE_EXP\n",
      "FR595129901_OBS_01\n",
      "----OBS_JOU\n",
      "--------nan\n",
      "FR595129901_VAH_01\n",
      "----VAH_PUB\n",
      "--------nan\n"
     ]
    }
   ],
   "source": [
    "for eadheader_eadid in sorted(df['eadheader_eadid'].unique()):\n",
    "    print(eadheader_eadid)\n",
    "    \n",
    "    arch = df[df['eadheader_eadid'] == eadheader_eadid]\n",
    "    for archdesc_did_unitid in sorted(arch['archdesc_did_unitid'].unique()):\n",
    "        print(f\"----{archdesc_did_unitid}\")\n",
    "        \n",
    "        sf = arch[arch['archdesc_did_unitid'] == archdesc_did_unitid]\n",
    "        for subfonds_did_unitid in sorted(sf['subfonds_did_unitid'].unique()):\n",
    "            print(f\"--------{subfonds_did_unitid}\")"
   ]
  },
  {
   "cell_type": "code",
   "execution_count": null,
   "id": "80107ca3",
   "metadata": {},
   "outputs": [],
   "source": []
  }
 ],
 "metadata": {
  "kernelspec": {
   "display_name": "Python 3 (ipykernel)",
   "language": "python",
   "name": "python3"
  },
  "language_info": {
   "codemirror_mode": {
    "name": "ipython",
    "version": 3
   },
   "file_extension": ".py",
   "mimetype": "text/x-python",
   "name": "python",
   "nbconvert_exporter": "python",
   "pygments_lexer": "ipython3",
   "version": "3.11.5"
  }
 },
 "nbformat": 4,
 "nbformat_minor": 5
}
