{
 "cells": [
  {
   "cell_type": "code",
   "execution_count": 1,
   "id": "f6b5a65e",
   "metadata": {},
   "outputs": [],
   "source": [
    "from os.path import join\n",
    "import bnr.azrael as azrael\n",
    "\n",
    "import pandas as pd\n",
    "import numpy as np\n",
    "import sidetable"
   ]
  },
  {
   "cell_type": "code",
   "execution_count": 18,
   "id": "7d02d7d2-3e04-43e3-aa83-685b30767073",
   "metadata": {},
   "outputs": [],
   "source": [
    "def get_stats_by_level(df, level):\n",
    "    if level == 0:\n",
    "        grby = ['path0']\n",
    "    elif level == 1:\n",
    "        grby = ['path0', 'path1']\n",
    "    elif level == 2:\n",
    "        grby = ['path0', 'path1', 'path2']\n",
    "    elif level == 3:\n",
    "        grby = ['path0', 'path1', 'path2', 'mimetype']\n",
    "        \n",
    "    level_gr_stat = df.groupby(grby).agg(\n",
    "            {\n",
    "                'size': ['min',\n",
    "                         lambda x: np.percentile(x, 5),\n",
    "                         lambda x: np.percentile(x, 25),\n",
    "                         'median',\n",
    "                         lambda x: np.percentile(x, 75),\n",
    "                         lambda x: np.percentile(x, 95),\n",
    "                         'max']\n",
    "            }\n",
    "        )\n",
    "    level_gr_stat = level_gr_stat.droplevel(axis=1, level=0).reset_index()\n",
    "    level_gr_stat = level_gr_stat.rename(columns={'<lambda_0>': 'perc_05',\n",
    "                                                  '<lambda_1>': 'perc_25',\n",
    "                                                  '<lambda_2>': 'perc_75',\n",
    "                                                  '<lambda_3>': 'perc_95'})\n",
    "    stat_columns = ['min', 'perc_05', 'perc_25', 'median', 'perc_75', 'perc_95', 'max']\n",
    "    for c in stat_columns:\n",
    "        nc = f\"{c}_mo\"\n",
    "        level_gr_stat[nc] = level_gr_stat[c].apply(lambda x: azrael.convert_size(x, to_size='mo'))\n",
    "    \n",
    "    level_gr_stat = level_gr_stat.drop(columns=stat_columns)\n",
    "\n",
    "    if level == 0:    \n",
    "        level_gr_stat['path1'] = level_gr_stat['path0'] + \" - Sous-total\"\n",
    "        level_gr_stat['path2'] = np.nan\n",
    "        level_gr_stat['mimetype'] = np.nan\n",
    "    elif level == 1:\n",
    "        level_gr_stat['path2'] = level_gr_stat['path0'] + \" | \" + level_gr_stat['path1'] + \" - Sous-total\"\n",
    "        level_gr_stat['mimetype'] = np.nan\n",
    "    elif level == 2:\n",
    "        level_gr_stat['mimetype'] = level_gr_stat['path0'] + \" | \" + level_gr_stat['path1'] + \" | \" + level_gr_stat['path2'] + \" - Sous-total\"\n",
    "    \n",
    "    return level_gr_stat"
   ]
  },
  {
   "cell_type": "code",
   "execution_count": 3,
   "id": "dfef524a",
   "metadata": {},
   "outputs": [
    {
     "data": {
      "text/plain": [
       "Index(['name', 'path', 'md5', 'size', 'last_content_modification_date',\n",
       "       'last_metadata_modification_date', 'path0', 'path1', 'path2', 'path3',\n",
       "       'path4', 'extension', 'mimetype', 'guessed_extension', 'nb'],\n",
       "      dtype='object')"
      ]
     },
     "execution_count": 3,
     "metadata": {},
     "output_type": "execute_result"
    }
   ],
   "source": [
    "data_folder = \"data\"\n",
    "az2a = azrael.Azrael2analysis()\n",
    "az2a.create_az(path_az=join(data_folder, \"bnr_d001_20231218.csv.gz\"))\n",
    "\n",
    "az2a.split_path()\n",
    "az2a.get_extension_mimetype()\n",
    "az = az2a.az\n",
    "az['nb'] = 1\n",
    "az = az[az['path0'].isin(['BNR_VERIF', 'BNR_TAMPON', 'BNR_SAUV'])]\n",
    "az.columns"
   ]
  },
  {
   "cell_type": "code",
   "execution_count": null,
   "id": "0362564c",
   "metadata": {},
   "outputs": [],
   "source": [
    "#az.stb.missing()"
   ]
  },
  {
   "cell_type": "code",
   "execution_count": null,
   "id": "2fab13e0",
   "metadata": {},
   "outputs": [],
   "source": [
    "#az.stb.freq(['path0'])"
   ]
  },
  {
   "cell_type": "code",
   "execution_count": null,
   "id": "91ee644a",
   "metadata": {},
   "outputs": [],
   "source": [
    "#az.stb.freq(['path1'])"
   ]
  },
  {
   "cell_type": "code",
   "execution_count": null,
   "id": "61eaa426",
   "metadata": {},
   "outputs": [],
   "source": [
    "#az.stb.freq(['mimetype'])"
   ]
  },
  {
   "cell_type": "code",
   "execution_count": 19,
   "id": "364ce0f8",
   "metadata": {},
   "outputs": [],
   "source": [
    "main_gr = az.groupby(['path0', 'path1', 'path2', 'mimetype']).agg(\n",
    "        {\n",
    "            'nb': 'sum',\n",
    "            'size': 'sum'\n",
    "        }\n",
    "    ).stb.subtotal(\n",
    "        sub_level=None,\n",
    "        grand_label='Total',\n",
    "        sub_label='Sous-total',\n",
    "        show_sep=True,\n",
    "        sep=' | ').reset_index()\n",
    "main_gr['size_mo'] = main_gr['size'].apply(lambda x: azrael.convert_size(x, to_size='mo'))\n",
    "main_gr['size_go'] = main_gr['size'].apply(lambda x: azrael.convert_size(x, to_size='go'))\n",
    "main_gr['size_to'] = main_gr['size'].apply(lambda x: azrael.convert_size(x, to_size='to'))\n",
    "main_gr.columns = ['path0', 'path1', 'path2', 'mimetype', 'nb', 'size', 'size_mo',\n",
    "       'size_go', 'size_to']"
   ]
  },
  {
   "cell_type": "code",
   "execution_count": 20,
   "id": "7f1ec6f1-7676-4a2f-acf8-0e223e0df515",
   "metadata": {},
   "outputs": [],
   "source": [
    "main_gr_stats = pd.DataFrame()\n",
    "for l in range(0, 4):\n",
    "    l_stat = get_stats_by_level(az, l)\n",
    "    main_gr_stats = pd.concat([main_gr_stats, l_stat])"
   ]
  },
  {
   "cell_type": "code",
   "execution_count": 21,
   "id": "5f5bde56-12ab-4cfb-8a89-f77c2e884f25",
   "metadata": {},
   "outputs": [],
   "source": [
    "main_gr_stats = main_gr_stats.replace(r'^\\s*$', np.nan, regex=True)\n",
    "main_gr = main_gr.replace(r'^\\s*$', np.nan, regex=True)\n",
    "for c in ['path0', 'path1', 'path2', 'mimetype']:\n",
    "    main_gr_stats[c] = main_gr_stats[c].astype(str)\n",
    "    main_gr[c] = main_gr[c].astype(str)\n",
    "main_gr_ = pd.merge(main_gr, main_gr_stats,\n",
    "               on=['path0', 'path1', 'path2', 'mimetype'],\n",
    "               how='left')\n",
    "main_gr_.set_index(['path0', 'path1', 'path2', 'mimetype']).to_excel(\"results/azrael_analysis.xlsx\")"
   ]
  }
 ],
 "metadata": {
  "kernelspec": {
   "display_name": "Python 3 (ipykernel)",
   "language": "python",
   "name": "python3"
  },
  "language_info": {
   "codemirror_mode": {
    "name": "ipython",
    "version": 3
   },
   "file_extension": ".py",
   "mimetype": "text/x-python",
   "name": "python",
   "nbconvert_exporter": "python",
   "pygments_lexer": "ipython3",
   "version": "3.11.5"
  }
 },
 "nbformat": 4,
 "nbformat_minor": 5
}
